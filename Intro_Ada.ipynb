{
  "nbformat": 4,
  "nbformat_minor": 0,
  "metadata": {
    "colab": {
      "provenance": [],
      "authorship_tag": "ABX9TyOygsa70odUZ51QXu9xjrUC",
      "include_colab_link": true
    },
    "kernelspec": {
      "name": "python3",
      "display_name": "Python 3"
    },
    "language_info": {
      "name": "python"
    }
  },
  "cells": [
    {
      "cell_type": "markdown",
      "metadata": {
        "id": "view-in-github",
        "colab_type": "text"
      },
      "source": [
        "<a href=\"https://colab.research.google.com/github/fcoelopes/Ada/blob/main/Intro_Ada.ipynb\" target=\"_parent\"><img src=\"https://colab.research.google.com/assets/colab-badge.svg\" alt=\"Open In Colab\"/></a>"
      ]
    },
    {
      "cell_type": "code",
      "execution_count": 1,
      "metadata": {
        "id": "ioNwogYZVVcD"
      },
      "outputs": [],
      "source": [
        "import numpy as np"
      ]
    },
    {
      "cell_type": "code",
      "source": [
        "lista = [1, 2, 3, 4, 5, 6]\n",
        "array = np.array(lista)\n",
        "print(array)"
      ],
      "metadata": {
        "colab": {
          "base_uri": "https://localhost:8080/"
        },
        "id": "MNyfHcbjVoj9",
        "outputId": "76c9b6ea-610a-4306-a21b-f5b270e6da1d"
      },
      "execution_count": 2,
      "outputs": [
        {
          "output_type": "stream",
          "name": "stdout",
          "text": [
            "[1 2 3 4 5 6]\n"
          ]
        }
      ]
    },
    {
      "cell_type": "code",
      "source": [
        "print(type(list))\n",
        "print(type(array))"
      ],
      "metadata": {
        "colab": {
          "base_uri": "https://localhost:8080/"
        },
        "id": "jv5uWOePV0YL",
        "outputId": "0c5852a7-0706-484a-bade-a276f62508fb"
      },
      "execution_count": 4,
      "outputs": [
        {
          "output_type": "stream",
          "name": "stdout",
          "text": [
            "<class 'type'>\n",
            "<class 'numpy.ndarray'>\n"
          ]
        }
      ]
    },
    {
      "cell_type": "code",
      "source": [
        "arr_zeros = np.zeros(10)\n",
        "print(arr_zeros)"
      ],
      "metadata": {
        "colab": {
          "base_uri": "https://localhost:8080/"
        },
        "id": "v_SF-NK2WPOP",
        "outputId": "c78e6b92-555d-493b-ded9-fc570e7a9066"
      },
      "execution_count": 5,
      "outputs": [
        {
          "output_type": "stream",
          "name": "stdout",
          "text": [
            "[0. 0. 0. 0. 0. 0. 0. 0. 0. 0.]\n"
          ]
        }
      ]
    },
    {
      "cell_type": "code",
      "source": [
        "array[0] = 9\n",
        "print(array)"
      ],
      "metadata": {
        "colab": {
          "base_uri": "https://localhost:8080/"
        },
        "id": "8oB7TXgYWVdP",
        "outputId": "e8a45942-f6a3-45f7-e6a8-27a4f26697a9"
      },
      "execution_count": 6,
      "outputs": [
        {
          "output_type": "stream",
          "name": "stdout",
          "text": [
            "[9 2 3 4 5 6]\n"
          ]
        }
      ]
    },
    {
      "cell_type": "code",
      "source": [
        "#Matrizes\n",
        "matriz_zeros = np.zeros((5, 3))\n",
        "print(matriz_zeros)"
      ],
      "metadata": {
        "colab": {
          "base_uri": "https://localhost:8080/"
        },
        "id": "769PQK_MWgeh",
        "outputId": "977bfa65-c2d5-4c19-87ce-fe3020f02fe2"
      },
      "execution_count": 7,
      "outputs": [
        {
          "output_type": "stream",
          "name": "stdout",
          "text": [
            "[[0. 0. 0.]\n",
            " [0. 0. 0.]\n",
            " [0. 0. 0.]\n",
            " [0. 0. 0.]\n",
            " [0. 0. 0.]]\n"
          ]
        }
      ]
    },
    {
      "cell_type": "code",
      "source": [
        "lista_de_notas = [9.8, 5.6, 7.8, 9.1, 6.5]\n",
        "notas = np.array(lista_de_notas)\n",
        "print(notas)"
      ],
      "metadata": {
        "colab": {
          "base_uri": "https://localhost:8080/"
        },
        "id": "urISshmKYi1Z",
        "outputId": "567c089a-925d-44b3-d6b5-960e250ea372"
      },
      "execution_count": 9,
      "outputs": [
        {
          "output_type": "stream",
          "name": "stdout",
          "text": [
            "[9.8 5.6 7.8 9.1 6.5]\n"
          ]
        }
      ]
    },
    {
      "cell_type": "code",
      "source": [
        "print(\"Maior nota: \", np.max(notas))\n",
        "print(\"Menor nota: \", np.min(notas))\n",
        "print(\"Desvio padrão: \", np.std(notas))\n",
        "print(\"Média das notas: \", np.mean(notas))\n",
        "print(\"Posição da menor nota: \", np.argmin(notas))\n",
        "print(\"Posição da maior nota: \", np.argmax(notas))"
      ],
      "metadata": {
        "colab": {
          "base_uri": "https://localhost:8080/"
        },
        "id": "WZuUztFPY2d5",
        "outputId": "505e045d-0f01-4b7f-8624-479077c837b5"
      },
      "execution_count": 11,
      "outputs": [
        {
          "output_type": "stream",
          "name": "stdout",
          "text": [
            "Maior nota:  9.8\n",
            "Menor nota:  5.6\n",
            "Desvio padrão:  1.5628179676469045\n",
            "Média das notas:  7.76\n",
            "Posição da menor nota:  1\n",
            "Posição da maior nota:  0\n"
          ]
        }
      ]
    },
    {
      "cell_type": "markdown",
      "source": [
        "# Mascaras booleanas"
      ],
      "metadata": {
        "id": "uNInFl2ucA5E"
      }
    },
    {
      "cell_type": "code",
      "source": [
        "is_covid_positive = np.array(['Yes', 'No', 'No', 'Yes', 'Yes', 'No'])\n",
        "print(is_covid_positive)"
      ],
      "metadata": {
        "colab": {
          "base_uri": "https://localhost:8080/"
        },
        "id": "LFOo1r9rcKEG",
        "outputId": "65411238-be36-4ecb-94a1-c10dc33bde11"
      },
      "execution_count": 16,
      "outputs": [
        {
          "output_type": "stream",
          "name": "stdout",
          "text": [
            "['Yes' 'No' 'No' 'Yes' 'Yes' 'No']\n"
          ]
        }
      ]
    },
    {
      "cell_type": "code",
      "source": [
        "mask = (is_covid_positive == 'Yes')\n",
        "print(mask)"
      ],
      "metadata": {
        "colab": {
          "base_uri": "https://localhost:8080/"
        },
        "id": "Rvw3wKKKdW7B",
        "outputId": "a95a173b-b9c4-44ce-a732-24243e6923a6"
      },
      "execution_count": 17,
      "outputs": [
        {
          "output_type": "stream",
          "name": "stdout",
          "text": [
            "[ True False False  True  True False]\n"
          ]
        }
      ]
    },
    {
      "cell_type": "code",
      "source": [
        "print(is_covid_positive[0])"
      ],
      "metadata": {
        "colab": {
          "base_uri": "https://localhost:8080/"
        },
        "id": "1F9vsG9gd8HA",
        "outputId": "b49c976c-a2d8-4fd5-8cd3-8fa1a9d85148"
      },
      "execution_count": 18,
      "outputs": [
        {
          "output_type": "stream",
          "name": "stdout",
          "text": [
            "Yes\n"
          ]
        }
      ]
    },
    {
      "cell_type": "code",
      "source": [
        "print(is_covid_positive[mask])"
      ],
      "metadata": {
        "colab": {
          "base_uri": "https://localhost:8080/"
        },
        "id": "AH9Kj3P-d5zv",
        "outputId": "8dc26ca6-5a57-43c4-d69f-4eaa2673478e"
      },
      "execution_count": 19,
      "outputs": [
        {
          "output_type": "stream",
          "name": "stdout",
          "text": [
            "['Yes' 'Yes' 'Yes']\n"
          ]
        }
      ]
    },
    {
      "cell_type": "code",
      "source": [
        "is_covid_positive[mask] = 'C19'\n",
        "print(is_covid_positive)"
      ],
      "metadata": {
        "colab": {
          "base_uri": "https://localhost:8080/"
        },
        "id": "yuz_SjTQeNae",
        "outputId": "3c58ff06-0cd8-4ae9-8577-beaf63be0fc9"
      },
      "execution_count": 20,
      "outputs": [
        {
          "output_type": "stream",
          "name": "stdout",
          "text": [
            "['C19' 'No' 'No' 'C19' 'C19' 'No']\n"
          ]
        }
      ]
    },
    {
      "cell_type": "code",
      "source": [
        "notas2 = np.array([4.9, 6.5, 3.2, 6.7])"
      ],
      "metadata": {
        "id": "NBiJXY7Hecoz"
      },
      "execution_count": 21,
      "outputs": []
    },
    {
      "cell_type": "code",
      "source": [
        "mask_notas = (notas2 >=5)\n",
        "print(mask_notas)"
      ],
      "metadata": {
        "colab": {
          "base_uri": "https://localhost:8080/"
        },
        "id": "6lkmwRK2etjI",
        "outputId": "0570980e-098a-470d-f73a-357347ec17f6"
      },
      "execution_count": 24,
      "outputs": [
        {
          "output_type": "stream",
          "name": "stdout",
          "text": [
            "[False  True False  True]\n"
          ]
        }
      ]
    }
  ]
}