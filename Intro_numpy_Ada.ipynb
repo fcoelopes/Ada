{
  "nbformat": 4,
  "nbformat_minor": 0,
  "metadata": {
    "colab": {
      "provenance": [],
      "authorship_tag": "ABX9TyMU1BflJrAjMPoZlhIhHvnN",
      "include_colab_link": true
    },
    "kernelspec": {
      "name": "python3",
      "display_name": "Python 3"
    },
    "language_info": {
      "name": "python"
    }
  },
  "cells": [
    {
      "cell_type": "markdown",
      "metadata": {
        "id": "view-in-github",
        "colab_type": "text"
      },
      "source": [
        "<a href=\"https://colab.research.google.com/github/fcoelopes/Ada/blob/main/Intro_numpy_Ada.ipynb\" target=\"_parent\"><img src=\"https://colab.research.google.com/assets/colab-badge.svg\" alt=\"Open In Colab\"/></a>"
      ]
    },
    {
      "cell_type": "code",
      "execution_count": 1,
      "metadata": {
        "id": "ioNwogYZVVcD"
      },
      "outputs": [],
      "source": [
        "import numpy as np"
      ]
    },
    {
      "cell_type": "code",
      "source": [
        "lista = [1, 2, 3, 4, 5, 6]\n",
        "array = np.array(lista)\n",
        "print(array)"
      ],
      "metadata": {
        "colab": {
          "base_uri": "https://localhost:8080/"
        },
        "id": "MNyfHcbjVoj9",
        "outputId": "76c9b6ea-610a-4306-a21b-f5b270e6da1d"
      },
      "execution_count": 2,
      "outputs": [
        {
          "output_type": "stream",
          "name": "stdout",
          "text": [
            "[1 2 3 4 5 6]\n"
          ]
        }
      ]
    },
    {
      "cell_type": "code",
      "source": [
        "print(type(list))\n",
        "print(type(array))"
      ],
      "metadata": {
        "colab": {
          "base_uri": "https://localhost:8080/"
        },
        "id": "jv5uWOePV0YL",
        "outputId": "0c5852a7-0706-484a-bade-a276f62508fb"
      },
      "execution_count": 4,
      "outputs": [
        {
          "output_type": "stream",
          "name": "stdout",
          "text": [
            "<class 'type'>\n",
            "<class 'numpy.ndarray'>\n"
          ]
        }
      ]
    },
    {
      "cell_type": "code",
      "source": [
        "arr_zeros = np.zeros(10)\n",
        "print(arr_zeros)"
      ],
      "metadata": {
        "colab": {
          "base_uri": "https://localhost:8080/"
        },
        "id": "v_SF-NK2WPOP",
        "outputId": "c78e6b92-555d-493b-ded9-fc570e7a9066"
      },
      "execution_count": 5,
      "outputs": [
        {
          "output_type": "stream",
          "name": "stdout",
          "text": [
            "[0. 0. 0. 0. 0. 0. 0. 0. 0. 0.]\n"
          ]
        }
      ]
    },
    {
      "cell_type": "code",
      "source": [
        "array[0] = 9\n",
        "print(array)"
      ],
      "metadata": {
        "colab": {
          "base_uri": "https://localhost:8080/"
        },
        "id": "8oB7TXgYWVdP",
        "outputId": "e8a45942-f6a3-45f7-e6a8-27a4f26697a9"
      },
      "execution_count": 6,
      "outputs": [
        {
          "output_type": "stream",
          "name": "stdout",
          "text": [
            "[9 2 3 4 5 6]\n"
          ]
        }
      ]
    },
    {
      "cell_type": "code",
      "source": [
        "#Matrizes\n",
        "matriz_zeros = np.zeros((5, 3))\n",
        "print(matriz_zeros)"
      ],
      "metadata": {
        "colab": {
          "base_uri": "https://localhost:8080/"
        },
        "id": "769PQK_MWgeh",
        "outputId": "977bfa65-c2d5-4c19-87ce-fe3020f02fe2"
      },
      "execution_count": 7,
      "outputs": [
        {
          "output_type": "stream",
          "name": "stdout",
          "text": [
            "[[0. 0. 0.]\n",
            " [0. 0. 0.]\n",
            " [0. 0. 0.]\n",
            " [0. 0. 0.]\n",
            " [0. 0. 0.]]\n"
          ]
        }
      ]
    },
    {
      "cell_type": "code",
      "source": [
        "lista_de_notas = [9.8, 5.6, 7.8, 9.1, 6.5]\n",
        "notas = np.array(lista_de_notas)\n",
        "print(notas)"
      ],
      "metadata": {
        "colab": {
          "base_uri": "https://localhost:8080/"
        },
        "id": "urISshmKYi1Z",
        "outputId": "567c089a-925d-44b3-d6b5-960e250ea372"
      },
      "execution_count": 9,
      "outputs": [
        {
          "output_type": "stream",
          "name": "stdout",
          "text": [
            "[9.8 5.6 7.8 9.1 6.5]\n"
          ]
        }
      ]
    },
    {
      "cell_type": "code",
      "source": [
        "print(\"Maior nota: \", np.max(notas))\n",
        "print(\"Menor nota: \", np.min(notas))\n",
        "print(\"Desvio padrão: \", np.std(notas))\n",
        "print(\"Média das notas: \", np.mean(notas))\n",
        "print(\"Posição da menor nota: \", np.argmin(notas))\n",
        "print(\"Posição da maior nota: \", np.argmax(notas))"
      ],
      "metadata": {
        "colab": {
          "base_uri": "https://localhost:8080/"
        },
        "id": "WZuUztFPY2d5",
        "outputId": "505e045d-0f01-4b7f-8624-479077c837b5"
      },
      "execution_count": 11,
      "outputs": [
        {
          "output_type": "stream",
          "name": "stdout",
          "text": [
            "Maior nota:  9.8\n",
            "Menor nota:  5.6\n",
            "Desvio padrão:  1.5628179676469045\n",
            "Média das notas:  7.76\n",
            "Posição da menor nota:  1\n",
            "Posição da maior nota:  0\n"
          ]
        }
      ]
    }
  ]
}